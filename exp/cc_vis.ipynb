{
 "cells": [
  {
   "cell_type": "code",
   "execution_count": 81,
   "metadata": {},
   "outputs": [],
   "source": [
    "from cc_wrapper import CCWrapper\n",
    "from cc_wrapper import SMALL_VAR, MID_VAR, ALL_VAR, LATEX_NAME\n",
    "\n",
    "import pandas as pd\n",
    "import matplotlib.pyplot as plt\n",
    "import matplotlib.colors as mcolors\n",
    "import matplotlib.patches as mpatches\n",
    "import seaborn as sns"
   ]
  },
  {
   "cell_type": "markdown",
   "metadata": {},
   "source": [
    "# True DAG"
   ]
  },
  {
   "cell_type": "code",
   "execution_count": null,
   "metadata": {},
   "outputs": [],
   "source": []
  },
  {
   "cell_type": "code",
   "execution_count": null,
   "metadata": {},
   "outputs": [],
   "source": []
  },
  {
   "attachments": {},
   "cell_type": "markdown",
   "metadata": {},
   "source": [
    "# Pairwise comparison plot"
   ]
  },
  {
   "cell_type": "code",
   "execution_count": 82,
   "metadata": {},
   "outputs": [],
   "source": [
    "ALPHA = 0.1\n",
    "DATAPOINTS_PER_FRAME = 300\n",
    "EXP_FAMILY = \"lt_interventions_standard_v1\"\n",
    "MARKER = \"Experiment\"\n",
    "\n",
    "def pairplot(experiments: list[str], colors: list[str], variables: list[str]):\n",
    "    # Validate colors: https://matplotlib.org/stable/gallery/color/named_colors.html\n",
    "    css_colors = []\n",
    "    for color in colors:\n",
    "        if color in mcolors.CSS4_COLORS:\n",
    "            css_colors.append(mcolors.CSS4_COLORS[color])\n",
    "        else:\n",
    "            raise ValueError(f\"Color '{color}' is not a valid CSS color name.\")\n",
    "    # Set up CausalChamber Wrapper\n",
    "    ccw = CCWrapper()\n",
    "    ccw.set_exp_family(EXP_FAMILY)\n",
    "    ccw.set_variables(variables)\n",
    "    # Fetch data\n",
    "    dataframes = ccw.fetch_experiments(\n",
    "                experiments=experiments, \n",
    "                sizes=[DATAPOINTS_PER_FRAME]*len(experiments)\n",
    "                ) # Returns list\n",
    "    # Concatenate all dfs with tag\n",
    "    for i,df in enumerate(dataframes):\n",
    "        df['Experiment'] = experiments[i]\n",
    "    total_data = pd.concat(dataframes)\n",
    "    # Raname columns to latex format\n",
    "    ltx_names = {f\"{i}\": f\"{LATEX_NAME(i)}\" for i in list(total_data.columns)}\n",
    "    ltx_names[MARKER] = MARKER\n",
    "    total_data.rename(columns=ltx_names, inplace=True)\n",
    "    # Plot\n",
    "    color_palette = dict(zip(experiments, css_colors))\n",
    "    pp = sns.pairplot(data=total_data, \n",
    "                      plot_kws={'alpha': ALPHA}, \n",
    "                      hue=MARKER, \n",
    "                      palette=color_palette,\n",
    "                      diag_kind='hist', \n",
    "                      diag_kws={'bins': 20})\n",
    "    for ax in pp.axes.flatten():\n",
    "        ax.set_xlabel(ax.get_xlabel(), fontsize=25, labelpad=20)\n",
    "        ax.set_ylabel(ax.get_ylabel(), fontsize=25, labelpad=20)\n",
    "        ax.xaxis.label.set_rotation(0)\n",
    "        ax.yaxis.label.set_rotation(0)\n",
    "    # Deal with legend, first delete the old one\n",
    "    handles = [mpatches.Patch(color=color, label=exp) for color, exp in zip(colors, experiments)]\n",
    "    labels = experiments\n",
    "    pp._legend.remove()\n",
    "    # New legend\n",
    "    legend = pp.fig.legend(handles=handles, \n",
    "                        labels=labels, \n",
    "                        loc='lower center', \n",
    "                        ncol=len(experiments), \n",
    "                        fontsize='xx-large', \n",
    "                        title=MARKER, \n",
    "                        title_fontsize='xx-large',\n",
    "                        borderpad=1,    \n",
    "                        labelspacing=1,\n",
    "                        handlelength=1.5,  # Length of color patch\n",
    "                        handleheight=1.5) # Height of color patch\n",
    "    # Legend's frame\n",
    "    legend.get_frame().set_linewidth(2)\n",
    "    # Make space for legend\n",
    "    pp.fig.subplots_adjust(top=0.92, bottom=0.12)\n",
    "\n",
    "    plt.show()\n"
   ]
  },
  {
   "cell_type": "code",
   "execution_count": null,
   "metadata": {},
   "outputs": [],
   "source": [
    "pairplot(experiments=['uniform_reference', 'uniform_red_strong', 'uniform_green_mid'], \n",
    "         colors = ['grey', 'tomato', 'palegreen'],\n",
    "         variables=SMALL_VAR)"
   ]
  },
  {
   "attachments": {},
   "cell_type": "markdown",
   "metadata": {},
   "source": [
    "#### Results - relationships:\n",
    "\n",
    "- Either no dependence or linear dependence\n",
    "\n",
    "#### Results - distribution:\n",
    "\n",
    "- R,G,B are not Gaussian but Uniform\n",
    "- Additive noise on top of R,G,B -> Anything looks more unfirom than Gaussian\n",
    "- Sum of R,G,B closer to Gaussian due to CLT\n",
    "- If we assume an additive noise model (which most Causal Discovery algorithms or inherent tests do), then the noise contribution is not homoscedastic\n",
    "- The joint distribution will surely not be jointly Gaussian\n",
    "\n",
    "#### Implications for causal discovery algorithms:\n",
    "\n",
    "- PC algorithm with Fisher z conditional independence test\n",
    "  - assumes joint distribution to be jointly Gaussian"
   ]
  },
  {
   "attachments": {},
   "cell_type": "markdown",
   "metadata": {},
   "source": [
    "# Marginal Variances"
   ]
  },
  {
   "cell_type": "markdown",
   "metadata": {},
   "source": []
  }
 ],
 "metadata": {
  "kernelspec": {
   "display_name": "masterthesis",
   "language": "python",
   "name": "python3"
  },
  "language_info": {
   "codemirror_mode": {
    "name": "ipython",
    "version": 3
   },
   "file_extension": ".py",
   "mimetype": "text/x-python",
   "name": "python",
   "nbconvert_exporter": "python",
   "pygments_lexer": "ipython3",
   "version": "3.9.19"
  },
  "orig_nbformat": 4
 },
 "nbformat": 4,
 "nbformat_minor": 2
}
